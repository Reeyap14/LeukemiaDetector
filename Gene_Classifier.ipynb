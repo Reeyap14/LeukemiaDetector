{
  "nbformat": 4,
  "nbformat_minor": 0,
  "metadata": {
    "colab": {
      "provenance": [],
      "authorship_tag": "ABX9TyOF15Ln/9kD4QN+8N0mv/G7",
      "include_colab_link": true
    },
    "kernelspec": {
      "name": "python3",
      "display_name": "Python 3"
    },
    "language_info": {
      "name": "python"
    }
  },
  "cells": [
    {
      "cell_type": "markdown",
      "metadata": {
        "id": "view-in-github",
        "colab_type": "text"
      },
      "source": [
        "<a href=\"https://colab.research.google.com/github/Reeyap14/LeukemiaDetector/blob/main/Gene_Classifier.ipynb\" target=\"_parent\"><img src=\"https://colab.research.google.com/assets/colab-badge.svg\" alt=\"Open In Colab\"/></a>"
      ]
    },
    {
      "cell_type": "code",
      "execution_count": null,
      "metadata": {
        "id": "7t3K5Tzezmx1"
      },
      "outputs": [],
      "source": [
        "import numpy as np\n",
        "import pandas as pd\n",
        "\n",
        "import matplotlib.pyplot as plt\n",
        "import seaborn as sns\n",
        "from mpl_toolkits.mplot3d import Axes3D\n",
        "%matplotlib inline\n",
        "\n",
        "from sklearn.preprocessing import StandardScaler\n",
        "from sklearn.decomposition import PCA\n",
        "from sklearn.model_selection import GridSearchCV, cross_val_score\n",
        "from sklearn.metrics import accuracy_score, confusion_matrix\n",
        "from sklearn.cluster import KMeans\n",
        "from sklearn.svm import SVC\n",
        "from sklearn.linear_model import LogisticRegression\n",
        "from sklearn.naive_bayes import GaussianNB\n",
        "from sklearn.ensemble import RandomForestClassifier\n",
        "\n",
        "import xgboost as xgb\n",
        "\n",
        "from keras.models import Sequential\n",
        "from keras.layers import Dense\n",
        "from keras.callbacks import EarlyStopping"
      ]
    },
    {
      "cell_type": "code",
      "source": [
        "y = pd.read_csv('../input/actual.csv')\n",
        "print(y.shape)\n",
        "y.head()"
      ],
      "metadata": {
        "id": "w9YXPbTmzoJb"
      },
      "execution_count": null,
      "outputs": []
    },
    {
      "cell_type": "code",
      "source": [
        "y['cancer'].value_counts()"
      ],
      "metadata": {
        "id": "PPI-AiNszqUo"
      },
      "execution_count": null,
      "outputs": []
    },
    {
      "cell_type": "code",
      "source": [
        "y = y.replace({'ALL':0,'AML':1})\n",
        "labels = ['ALL', 'AML']"
      ],
      "metadata": {
        "id": "w-LkX3ZdzsFL"
      },
      "execution_count": null,
      "outputs": []
    },
    {
      "cell_type": "code",
      "source": [
        "df_train = pd.read_csv('../input/data_set_ALL_AML_train.csv')\n",
        "print(df_train.shape)\n",
        "\n",
        "# Import testing data\n",
        "df_test = pd.read_csv('../input/data_set_ALL_AML_independent.csv')\n",
        "print(df_test.shape)"
      ],
      "metadata": {
        "id": "vBaY62lVzuOR"
      },
      "execution_count": null,
      "outputs": []
    },
    {
      "cell_type": "code",
      "source": [
        "df_train.head()"
      ],
      "metadata": {
        "id": "Tr31TNu0zweJ"
      },
      "execution_count": null,
      "outputs": []
    },
    {
      "cell_type": "code",
      "source": [
        "df_test.head()"
      ],
      "metadata": {
        "id": "ZL1xeMGlzyM-"
      },
      "execution_count": null,
      "outputs": []
    },
    {
      "cell_type": "code",
      "source": [
        "train_to_keep = [col for col in df_train.columns if \"call\" not in col]\n",
        "test_to_keep = [col for col in df_test.columns if \"call\" not in col]\n",
        "\n",
        "X_train_tr = df_train[train_to_keep]\n",
        "X_test_tr = df_test[test_to_keep]"
      ],
      "metadata": {
        "id": "3rGe-SIXz0YR"
      },
      "execution_count": null,
      "outputs": []
    },
    {
      "cell_type": "code",
      "source": [
        "train_columns_titles = ['Gene Description', 'Gene Accession Number', '1', '2', '3', '4', '5', '6', '7', '8', '9', '10',\n",
        "       '11', '12', '13', '14', '15', '16', '17', '18', '19', '20', '21', '22', '23', '24', '25',\n",
        "       '26', '27', '28', '29', '30', '31', '32', '33', '34', '35', '36', '37', '38']\n",
        "\n",
        "X_train_tr = X_train_tr.reindex(columns=train_columns_titles)"
      ],
      "metadata": {
        "id": "aH-gsZJrz24K"
      },
      "execution_count": null,
      "outputs": []
    },
    {
      "cell_type": "code",
      "source": [
        "test_columns_titles = ['Gene Description', 'Gene Accession Number','39', '40', '41', '42', '43', '44', '45', '46',\n",
        "       '47', '48', '49', '50', '51', '52', '53',  '54', '55', '56', '57', '58', '59',\n",
        "       '60', '61', '62', '63', '64', '65', '66', '67', '68', '69', '70', '71', '72']\n",
        "\n",
        "X_test_tr = X_test_tr.reindex(columns=test_columns_titles)"
      ],
      "metadata": {
        "id": "ZPTojBrgz5HP"
      },
      "execution_count": null,
      "outputs": []
    },
    {
      "cell_type": "code",
      "source": [
        "X_train = X_train_tr.T\n",
        "X_test = X_test_tr.T\n",
        "\n",
        "print(X_train.shape)\n",
        "X_train.head()"
      ],
      "metadata": {
        "id": "GB78Vul3z60T"
      },
      "execution_count": null,
      "outputs": []
    },
    {
      "cell_type": "code",
      "source": [
        "X_train.columns = X_train.iloc[1]\n",
        "X_train = X_train.drop([\"Gene Description\", \"Gene Accession Number\"]).apply(pd.to_numeric)\n",
        "\n",
        "# Clean up the column names for Testing data\n",
        "X_test.columns = X_test.iloc[1]\n",
        "X_test = X_test.drop([\"Gene Description\", \"Gene Accession Number\"]).apply(pd.to_numeric)\n",
        "\n",
        "print(X_train.shape)\n",
        "print(X_test.shape)\n",
        "X_train.head()"
      ],
      "metadata": {
        "id": "DY0UqQtjz8p4"
      },
      "execution_count": null,
      "outputs": []
    },
    {
      "cell_type": "code",
      "source": [
        "# Subset the first 38 patient's cancer types\n",
        "X_train = X_train.reset_index(drop=True)\n",
        "y_train = y[y.patient <= 38].reset_index(drop=True)\n",
        "\n",
        "# Subset the rest for testing\n",
        "X_test = X_test.reset_index(drop=True)\n",
        "y_test = y[y.patient > 38].reset_index(drop=True)"
      ],
      "metadata": {
        "id": "SUA-uUezz-0U"
      },
      "execution_count": null,
      "outputs": []
    },
    {
      "cell_type": "code",
      "source": [
        "X_train.describe()"
      ],
      "metadata": {
        "id": "LFZWnM_H0A-m"
      },
      "execution_count": null,
      "outputs": []
    },
    {
      "cell_type": "code",
      "source": [
        "X_train_fl = X_train.astype(float, 64)\n",
        "X_test_fl = X_test.astype(float, 64)\n",
        "\n",
        "# Apply the same scaling to both datasets\n",
        "scaler = StandardScaler()\n",
        "X_train_scl = scaler.fit_transform(X_train_fl)\n",
        "X_test_scl = scaler.transform(X_test_fl)"
      ],
      "metadata": {
        "id": "Dyio7SvK0CkM"
      },
      "execution_count": null,
      "outputs": []
    },
    {
      "cell_type": "code",
      "source": [
        "pca = PCA()\n",
        "pca.fit_transform(X_train)"
      ],
      "metadata": {
        "id": "gt43Seuy0FdK"
      },
      "execution_count": null,
      "outputs": []
    },
    {
      "cell_type": "code",
      "source": [
        "total = sum(pca.explained_variance_)\n",
        "k = 0\n",
        "current_variance = 0\n",
        "while current_variance/total < 0.90:\n",
        "    current_variance += pca.explained_variance_[k]\n",
        "    k = k + 1\n",
        "\n",
        "print(k, \" features explain around 90% of the variance. From 7129 features to \", k, \", not too bad.\", sep='')\n",
        "\n",
        "pca = PCA(n_components=k)\n",
        "X_train.pca = pca.fit(X_train)\n",
        "X_train_pca = pca.transform(X_train)\n",
        "X_test_pca = pca.transform(X_test)\n",
        "\n",
        "var_exp = pca.explained_variance_ratio_.cumsum()\n",
        "var_exp = var_exp*100\n",
        "plt.bar(range(k), var_exp);"
      ],
      "metadata": {
        "id": "ZrPEzRsI0Hh6"
      },
      "execution_count": null,
      "outputs": []
    },
    {
      "cell_type": "code",
      "source": [
        "pca3 = PCA(n_components=3).fit(X_train)\n",
        "X_train_reduced = pca3.transform(X_train)\n",
        "\n",
        "plt.clf()\n",
        "fig = plt.figure(1, figsize=(10,6 ))\n",
        "ax = Axes3D(fig, elev=-150, azim=110,)\n",
        "ax.scatter(X_train_reduced[:, 0], X_train_reduced[:, 1], X_train_reduced[:, 2], c = y_train.iloc[:,1], cmap = plt.cm.Paired, linewidths=10)\n",
        "ax.set_title(\"First three PCA directions\")\n",
        "ax.set_xlabel(\"1st eigenvector\")\n",
        "ax.w_xaxis.set_ticklabels([])\n",
        "ax.set_ylabel(\"2nd eigenvector\")\n",
        "ax.w_yaxis.set_ticklabels([])\n",
        "ax.set_zlabel(\"3rd eigenvector\")\n",
        "ax.w_zaxis.set_ticklabels([])"
      ],
      "metadata": {
        "id": "hSz6O7D60JjV"
      },
      "execution_count": null,
      "outputs": []
    },
    {
      "cell_type": "code",
      "source": [
        "fig = plt.figure(1, figsize = (10, 6))\n",
        "plt.scatter(X_train_reduced[:, 0],  X_train_reduced[:, 1], c = y_train.iloc[:,1], cmap = plt.cm.Paired, linewidths=10)\n",
        "plt.annotate('Note the Brown Cluster', xy = (30000,-2000))\n",
        "plt.title(\"2D Transformation of the Above Graph \")"
      ],
      "metadata": {
        "id": "dm1INAEy0Lg7"
      },
      "execution_count": null,
      "outputs": []
    },
    {
      "cell_type": "code",
      "source": [
        "print(\"Simply predicting everything as acute lymphoblastic leukemia (ALL) results in an accuracy of \", round(1 - np.mean(y_test.iloc[:,1]), 3), \".\", sep = '')"
      ],
      "metadata": {
        "id": "bkcv9-z70NXX"
      },
      "execution_count": null,
      "outputs": []
    },
    {
      "cell_type": "code",
      "source": [
        "kmeans = KMeans(n_clusters=2, random_state=0).fit(X_train_scl)\n",
        "km_pred = kmeans.predict(X_test_scl)\n",
        "\n",
        "print('K-means accuracy:', round(accuracy_score(y_test.iloc[:,1], km_pred), 3))\n",
        "\n",
        "cm_km = confusion_matrix(y_test.iloc[:,1], km_pred)\n",
        "\n",
        "ax = plt.subplot()\n",
        "sns.heatmap(cm_km, annot=True, ax = ax, fmt='g', cmap='Greens')\n",
        "\n",
        "# labels, title and ticks\n",
        "ax.set_xlabel('Predicted labels')\n",
        "ax.set_ylabel('True labels')\n",
        "ax.set_title('K-means Confusion Matrix')\n",
        "ax.xaxis.set_ticklabels(labels)\n",
        "ax.yaxis.set_ticklabels(labels, rotation=360);"
      ],
      "metadata": {
        "id": "STf93dfs0QHw"
      },
      "execution_count": null,
      "outputs": []
    },
    {
      "cell_type": "code",
      "source": [
        "nb_model = GaussianNB()\n",
        "\n",
        "nb_model.fit(X_train, y_train.iloc[:,1])\n",
        "\n",
        "nb_pred = nb_model.predict(X_test)\n",
        "\n",
        "print('Naive Bayes accuracy:', round(accuracy_score(y_test.iloc[:,1], nb_pred), 3))\n",
        "\n",
        "cm_nb =  confusion_matrix(y_test.iloc[:,1], nb_pred)\n",
        "\n",
        "ax = plt.subplot()\n",
        "sns.heatmap(cm_nb, annot=True, ax = ax, fmt='g', cmap='Greens')\n",
        "\n",
        "# labels, title and ticks\n",
        "ax.set_xlabel('Predicted labels')\n",
        "ax.set_ylabel('True labels')\n",
        "ax.set_title('Naive Bayes Confusion Matrix')\n",
        "ax.xaxis.set_ticklabels(labels)\n",
        "ax.yaxis.set_ticklabels(labels, rotation=360);"
      ],
      "metadata": {
        "id": "7NIQnuLG0SmT"
      },
      "execution_count": null,
      "outputs": []
    },
    {
      "cell_type": "code",
      "source": [
        "log_grid = {'C': [1e-03, 1e-2, 1e-1, 1, 10],\n",
        "                 'penalty': ['l1', 'l2']}\n",
        "\n",
        "log_estimator = LogisticRegression(solver='liblinear')\n",
        "\n",
        "log_model = GridSearchCV(estimator=log_estimator,\n",
        "                  param_grid=log_grid,\n",
        "                  cv=3,\n",
        "                  scoring='accuracy')\n",
        "\n",
        "log_model.fit(X_train, y_train.iloc[:,1])\n",
        "\n",
        "print(\"Best Parameters:\\n\", log_model.best_params_)\n",
        "\n",
        "# Select best log model\n",
        "best_log = log_model.best_estimator_\n",
        "\n",
        "# Make predictions using the optimised parameters\n",
        "log_pred = best_log.predict(X_test)\n",
        "\n",
        "print('Logistic Regression accuracy:', round(accuracy_score(y_test.iloc[:,1], log_pred), 3))\n",
        "\n",
        "cm_log =  confusion_matrix(y_test.iloc[:,1], log_pred)\n",
        "\n",
        "ax = plt.subplot()\n",
        "sns.heatmap(cm_log, annot=True, ax = ax, fmt='g', cmap='Greens')\n",
        "\n",
        "# labels, title and ticks\n",
        "ax.set_xlabel('Predicted labels')\n",
        "ax.set_ylabel('True labels')\n",
        "ax.set_title('Logistic Regression Confusion Matrix')\n",
        "ax.xaxis.set_ticklabels(labels)\n",
        "ax.yaxis.set_ticklabels(labels, rotation=360);"
      ],
      "metadata": {
        "id": "ZrT7Q0gG0Vzo"
      },
      "execution_count": null,
      "outputs": []
    },
    {
      "cell_type": "code",
      "source": [
        "svm_param_grid = {'C': [0.1, 1, 10, 100], 'gamma': [1, 0.1, 0.01, 0.001, 0.00001, 10], \"kernel\": [\"linear\", \"rbf\", \"poly\"], \"decision_function_shape\" : [\"ovo\", \"ovr\"]}\n",
        "\n",
        "# Create SVM grid search classifier\n",
        "svm_grid = GridSearchCV(SVC(), svm_param_grid, cv=3)\n",
        "# Train the classifier\n",
        "svm_grid.fit(X_train_pca, y_train.iloc[:,1])\n",
        "\n",
        "print(\"Best Parameters:\\n\", svm_grid.best_params_)\n",
        "\n",
        "# Select best svc\n",
        "best_svc = svm_grid.best_estimator_\n",
        "\n",
        "# Make predictions using the optimised parameters\n",
        "svm_pred = best_svc.predict(X_test_pca)\n",
        "\n",
        "print('SVM accuracy:', round(accuracy_score(y_test.iloc[:,1], svm_pred), 3))\n",
        "\n",
        "cm_svm =  confusion_matrix(y_test.iloc[:,1], svm_pred)\n",
        "\n",
        "ax = plt.subplot()\n",
        "sns.heatmap(cm_svm, annot=True, ax = ax, fmt='g', cmap='Greens')\n",
        "\n",
        "# Labels, title and ticks\n",
        "ax.set_xlabel('Predicted labels')\n",
        "ax.set_ylabel('True labels')\n",
        "ax.set_title('SVM Confusion Matrix')\n",
        "ax.xaxis.set_ticklabels(labels)\n",
        "ax.yaxis.set_ticklabels(labels, rotation=360);"
      ],
      "metadata": {
        "id": "1Rr5nmdy0a5q"
      },
      "execution_count": null,
      "outputs": []
    },
    {
      "cell_type": "code",
      "source": [],
      "metadata": {
        "id": "i2ouRUcuSbhf"
      },
      "execution_count": null,
      "outputs": []
    },
    {
      "cell_type": "code",
      "source": [
        "rf_param_grid = {'bootstrap': [False, True],\n",
        "         'n_estimators': [60, 70, 80, 90, 100],\n",
        "         'max_features': [0.6, 0.65, 0.7, 0.75, 0.8],\n",
        "         'min_samples_leaf': [8, 10, 12, 14],\n",
        "         'min_samples_split': [3, 5, 7]\n",
        "        }\n",
        "\n",
        "# Instantiate random forest classifier\n",
        "rf_estimator = RandomForestClassifier(random_state=0)\n",
        "\n",
        "# Create the GridSearchCV object\n",
        "rf_model = GridSearchCV(estimator=rf_estimator, param_grid=rf_param_grid, cv=3, scoring='accuracy')\n",
        "\n",
        "# Fine-tune the hyperparameters\n",
        "rf_model.fit(X_train, y_train.iloc[:,1])\n",
        "\n",
        "print(\"Best Parameters:\\n\", rf_model.best_params_)\n",
        "\n",
        "# Get the best model\n",
        "rf_model_best = rf_model.best_estimator_\n",
        "\n",
        "# Make predictions using the optimised parameters\n",
        "rf_pred = rf_model_best.predict(X_test)\n",
        "\n",
        "print('Random Forest accuracy:', round(accuracy_score(y_test.iloc[:,1], rf_pred), 3))\n",
        "\n",
        "cm_rf = confusion_matrix(y_test.iloc[:,1], rf_pred)\n",
        "\n",
        "ax = plt.subplot()\n",
        "sns.heatmap(cm_rf, annot=True, ax = ax, fmt='g', cmap='Greens')\n",
        "\n",
        "# labels, title and ticks\n",
        "ax.set_xlabel('Predicted labels')\n",
        "ax.set_ylabel('True labels')\n",
        "ax.set_title('Random Forest Confusion Matrix')\n",
        "ax.xaxis.set_ticklabels(labels)\n",
        "ax.yaxis.set_ticklabels(labels, rotation=360);"
      ],
      "metadata": {
        "id": "bhVe-0sP0kTN"
      },
      "execution_count": null,
      "outputs": []
    },
    {
      "cell_type": "code",
      "source": [
        "xgb_grid_params = {'max_depth': [3, 4, 5, 6, 7, 8, 10, 12],\n",
        "               'min_child_weight': [1, 2, 4, 6, 8, 10, 12, 15],\n",
        "               'n_estimators': [40, 50, 60, 70, 80, 90, 100, 110, 120, 130],\n",
        "               'learning_rate': [0.001, 0.01, 0.05, 0.1, 0.2, 0.3]}\n",
        "\n",
        "fixed_params = {'random_state': 0,\n",
        "                'n_jobs': -1}\n",
        "\n",
        "xgb_model = GridSearchCV(xgb.XGBClassifier(**fixed_params),\n",
        "                       param_grid = xgb_grid_params,\n",
        "                       scoring = 'accuracy',\n",
        "                       cv = 3)\n",
        "\n",
        "xgb_model.fit(X_train_pca, y_train.iloc[:,1])\n",
        "\n",
        "print(\"Best Parameters:\\n\", xgb_model.best_params_)\n",
        "\n",
        "# Get the best model\n",
        "xgb_model_best = xgb_model.best_estimator_\n",
        "\n",
        "# Make predictions using the optimised parameters\n",
        "xgb_pred = xgb_model_best.predict(X_test_pca)\n",
        "print('XGB (PCA with Grid Search) accuracy:', round(accuracy_score(y_test.iloc[:,1], xgb_pred), 3))\n",
        "\n",
        "cm_xgb = confusion_matrix(y_test.iloc[:,1], xgb_pred)\n",
        "\n",
        "ax = plt.subplot()\n",
        "sns.heatmap(cm_xgb, annot=True, ax = ax, fmt='g', cmap='Greens')\n",
        "\n",
        "# labels, title and ticks\n",
        "ax.set_xlabel('Predicted labels')\n",
        "ax.set_ylabel('True labels')\n",
        "ax.set_title('XGB (PCA with Grid Search) Confusion Matrix')\n",
        "ax.xaxis.set_ticklabels(labels)\n",
        "ax.yaxis.set_ticklabels(labels, rotation=360);"
      ],
      "metadata": {
        "id": "_R6kqkln0rSa"
      },
      "execution_count": null,
      "outputs": []
    },
    {
      "cell_type": "code",
      "source": [
        "xgb2_model = xgb.XGBClassifier()\n",
        "xgb2_model.fit(X_train_pca, y_train.iloc[:,1])\n",
        "\n",
        "xgb2_pred = xgb2_model.predict(X_test_pca)\n",
        "\n",
        "print('Accuracy: ', round(accuracy_score(y_test.iloc[:,1], xgb2_pred), 3))\n",
        "\n",
        "cm_xgb2 = confusion_matrix(y_test.iloc[:,1], xgb2_pred)\n",
        "\n",
        "ax = plt.subplot()\n",
        "sns.heatmap(cm_xgb2, annot=True, ax = ax, fmt='g', cmap='Greens')\n",
        "\n",
        "# Labels, title and ticks\n",
        "ax.set_xlabel('Predicted labels')\n",
        "ax.set_ylabel('True labels')\n",
        "ax.set_title('XGB (PCA without Grid Search) Confusion Matrix')\n",
        "ax.xaxis.set_ticklabels(labels)\n",
        "ax.yaxis.set_ticklabels(labels, rotation=360);"
      ],
      "metadata": {
        "id": "GgtICKq10xvD"
      },
      "execution_count": null,
      "outputs": []
    },
    {
      "cell_type": "code",
      "source": [
        "xgb3_model = xgb.XGBClassifier()\n",
        "xgb3_model.fit(X_train, y_train.iloc[:,1])\n",
        "\n",
        "xgb3_pred = xgb3_model.predict(X_test)\n",
        "\n",
        "print('XGB (no PCA or Grid Search) accuracy:', round(accuracy_score(y_test.iloc[:,1], xgb3_pred), 3))\n",
        "\n",
        "cm_xgb3 = confusion_matrix(y_test.iloc[:,1], xgb3_pred)\n",
        "\n",
        "ax = plt.subplot()\n",
        "sns.heatmap(cm_xgb3, annot=True, ax = ax, fmt='g', cmap='Greens')\n",
        "\n",
        "# Labels, title and ticks\n",
        "ax.set_xlabel('Predicted labels')\n",
        "ax.set_ylabel('True labels')\n",
        "ax.set_title('XGB (no PCA or Grid Search) Confusion Matrix')\n",
        "ax.xaxis.set_ticklabels(labels)\n",
        "ax.yaxis.set_ticklabels(labels, rotation=360);"
      ],
      "metadata": {
        "id": "LUZaQQeO0zoz"
      },
      "execution_count": null,
      "outputs": []
    },
    {
      "cell_type": "code",
      "source": [
        "model = Sequential()\n",
        "model.add(Dense(16, activation='relu', input_shape=(7129,)))\n",
        "model.add(Dense(1, activation='sigmoid'))"
      ],
      "metadata": {
        "id": "dm9Ls4cI02As"
      },
      "execution_count": null,
      "outputs": []
    },
    {
      "cell_type": "code",
      "source": [
        "model.compile(optimizer='adam',\n",
        "loss='binary_crossentropy',\n",
        "metrics=['accuracy'])"
      ],
      "metadata": {
        "id": "8ltHrxP_04BE"
      },
      "execution_count": null,
      "outputs": []
    },
    {
      "cell_type": "code",
      "source": [
        "partial_X_train = X_train_scl[:30]\n",
        "X_val = X_train_scl[30:]\n",
        "\n",
        "y_train_label = y_train.iloc[:,1]\n",
        "partial_y_train = y_train_label[:30]\n",
        "y_val = y_train_label[30:]"
      ],
      "metadata": {
        "id": "9_uFEi680506"
      },
      "execution_count": null,
      "outputs": []
    },
    {
      "cell_type": "code",
      "source": [
        "es = EarlyStopping(monitor='val_loss', verbose=1, patience=3)\n",
        "\n",
        "# Fit model\n",
        "history = model.fit(partial_X_train,\n",
        "            partial_y_train,\n",
        "            epochs=50,\n",
        "            batch_size=4,\n",
        "            validation_data=(X_val, y_val),\n",
        "            callbacks=[es])"
      ],
      "metadata": {
        "id": "T0gFVJwb07ae"
      },
      "execution_count": null,
      "outputs": []
    },
    {
      "cell_type": "code",
      "source": [
        "nn_pred = model.predict_classes(X_test_scl)\n",
        "\n",
        "print('Neural Network accuracy: ', round(accuracy_score(y_test.iloc[:,1], nn_pred), 3))\n",
        "\n",
        "cm_nn = confusion_matrix(y_test.iloc[:,1], nn_pred)\n",
        "\n",
        "ax = plt.subplot()\n",
        "sns.heatmap(cm_nn, annot=True, ax = ax, fmt='g', cmap='Greens')\n",
        "\n",
        "# Labels, title and ticks\n",
        "ax.set_xlabel('Predicted labels')\n",
        "ax.set_ylabel('True labels')\n",
        "ax.set_title('Neural Network Confusion Matrix')\n",
        "ax.xaxis.set_ticklabels(labels)\n",
        "ax.yaxis.set_ticklabels(labels, rotation=360);"
      ],
      "metadata": {
        "id": "_ebI3HDB09sc"
      },
      "execution_count": null,
      "outputs": []
    },
    {
      "cell_type": "code",
      "source": [],
      "metadata": {
        "id": "Qg7CClfh0_9Z"
      },
      "execution_count": null,
      "outputs": []
    }
  ]
}